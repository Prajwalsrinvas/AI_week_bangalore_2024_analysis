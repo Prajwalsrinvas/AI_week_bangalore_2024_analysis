{
 "cells": [
  {
   "cell_type": "code",
   "execution_count": 1,
   "metadata": {},
   "outputs": [],
   "source": [
    "import os\n",
    "import re\n",
    "\n",
    "import requests\n",
    "from dotenv import load_dotenv\n",
    "from tqdm.auto import tqdm"
   ]
  },
  {
   "cell_type": "code",
   "execution_count": 2,
   "metadata": {},
   "outputs": [],
   "source": [
    "load_dotenv()\n",
    "JINA_READER_API_KEY = os.getenv(\"JINA_READER_API_KEY\")"
   ]
  },
  {
   "cell_type": "code",
   "execution_count": 3,
   "metadata": {},
   "outputs": [],
   "source": [
    "with open(\"links.txt\") as f:\n",
    "    links = [i.strip() for i in f.readlines()]"
   ]
  },
  {
   "cell_type": "code",
   "execution_count": 4,
   "metadata": {},
   "outputs": [],
   "source": [
    "text = []"
   ]
  },
  {
   "cell_type": "code",
   "execution_count": 5,
   "metadata": {},
   "outputs": [],
   "source": [
    "def clean_text(text):\n",
    "    \"\"\"\n",
    "    Remove Markdown links and images from text.\n",
    "\n",
    "    Args:\n",
    "        text (str): Input text containing Markdown links and images\n",
    "\n",
    "    Returns:\n",
    "        str: Cleaned text with links and images removed\n",
    "    \"\"\"\n",
    "    # Remove Markdown image syntax\n",
    "    text = re.sub(r\"!\\[.*?\\]\\(.*?\\)\", \"\", text)\n",
    "\n",
    "    # Remove Markdown link syntax while keeping the link text\n",
    "    text = re.sub(r\"\\[(.*?)\\]\\(.*?\\)\", r\"\\1\", text)\n",
    "\n",
    "    # Remove extra blank lines\n",
    "    text = re.sub(r\"\\n\\s*\\n\", \"\\n\\n\", text)\n",
    "\n",
    "    # Strip extra whitespace\n",
    "    text = text.strip()\n",
    "\n",
    "    return text"
   ]
  },
  {
   "cell_type": "code",
   "execution_count": 6,
   "metadata": {},
   "outputs": [
    {
     "name": "stderr",
     "output_type": "stream",
     "text": [
      "100%|██████████| 44/44 [03:22<00:00,  4.60s/it]\n"
     ]
    }
   ],
   "source": [
    "headers = {\"Authorization\": f\"Bearer {JINA_READER_API_KEY}\"}\n",
    "\n",
    "for link in tqdm(links):\n",
    "    response = requests.get(f\"https://r.jina.ai/{link}\", headers=headers)\n",
    "    text.append(f\"<{link}>\\n\\n{clean_text(response.text)}\\n\\n</{link}>\")"
   ]
  },
  {
   "cell_type": "code",
   "execution_count": 7,
   "metadata": {},
   "outputs": [],
   "source": [
    "with open(\"extracted_content.md\", \"w\") as f:\n",
    "    f.write(\"\\n\\n------------------------------------\\n\\n\".join(text))"
   ]
  },
  {
   "cell_type": "code",
   "execution_count": null,
   "metadata": {},
   "outputs": [],
   "source": []
  }
 ],
 "metadata": {
  "kernelspec": {
   "display_name": "base",
   "language": "python",
   "name": "python3"
  },
  "language_info": {
   "codemirror_mode": {
    "name": "ipython",
    "version": 3
   },
   "file_extension": ".py",
   "mimetype": "text/x-python",
   "name": "python",
   "nbconvert_exporter": "python",
   "pygments_lexer": "ipython3",
   "version": "3.10.9"
  }
 },
 "nbformat": 4,
 "nbformat_minor": 2
}
